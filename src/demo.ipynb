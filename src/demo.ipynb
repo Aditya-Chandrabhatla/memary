{
 "cells": [
  {
   "cell_type": "code",
   "execution_count": 1,
   "metadata": {},
   "outputs": [
    {
     "name": "stderr",
     "output_type": "stream",
     "text": [
      "/Users/kevinli/Documents/memARyLabs/memary/.venv/lib/python3.11/site-packages/tqdm/auto.py:21: TqdmWarning: IProgress not found. Please update jupyter and ipywidgets. See https://ipywidgets.readthedocs.io/en/stable/user_install.html\n",
      "  from .autonotebook import tqdm as notebook_tqdm\n"
     ]
    }
   ],
   "source": [
    "from routing_agent import RoutingAgent\n",
    "\n",
    "routingAgent = RoutingAgent()"
   ]
  },
  {
   "cell_type": "code",
   "execution_count": 2,
   "metadata": {},
   "outputs": [
    {
     "name": "stdout",
     "output_type": "stream",
     "text": [
      "\u001b[1;3;38;5;200mThought: I need to use a tool to help me answer the question.\n",
      "Action: vision\n",
      "Action Input: {'query': 'What is depicted in the image?', 'img_url': 'https://static.wikia.nocookie.net/minecraft_gamepedia/images/e/e2/White_Sheep_JE3_BE6.png/revision/latest?cb=20190809163123'}\n",
      "\u001b[0m\u001b[1;3;34mObservation: The image shows a pixelated, stylized representation of a sheep, which appears to be from the video game Minecraft. The sheep has the game's distinctive blocky appearance, with a white body and a face that includes eyes and a snout. Minecraft's art style is known for its grid-like, cube-based structure, which is clearly visible in this depiction of the sheep.\n",
      "\u001b[0m\u001b[1;3;38;5;200mThought: I can answer without using any more tools.\n",
      "Answer: The image depicts a white sheep from the video game Minecraft.\n",
      "\u001b[0m"
     ]
    }
   ],
   "source": [
    "routingAgent.query(\"Tell me about what is depicted in the image: https://static.wikia.nocookie.net/minecraft_gamepedia/images/e/e2/White_Sheep_JE3_BE6.png/revision/latest?cb=20190809163123\")"
   ]
  },
  {
   "cell_type": "code",
   "execution_count": 2,
   "metadata": {},
   "outputs": [
    {
     "name": "stdout",
     "output_type": "stream",
     "text": [
      "\u001b[1;3;38;5;200mThought: I need to use a tool to help me answer the question.\n",
      "Action: search\n",
      "Action Input: {'query': 'Minecraft'}\n",
      "\u001b[0m\u001b[1;3;34mObservation: assistant: Minecraft is a popular sandbox video game developed by Mojang Studios. Players can build structures, explore vast worlds, and survive in various environments using textured cubes. It offers single-player and multiplayer modes with various game modes like Survival, Creative, and Adventure. Minecraft is available on multiple platforms including PC, consoles, and mobile devices.\n",
      "\u001b[0m\u001b[1;3;38;5;200mThought: I can answer without using any more tools.\n",
      "Answer: Minecraft is a popular sandbox video game developed by Mojang Studios. Players can build structures, explore vast worlds, and survive in various environments using textured cubes. It offers single-player and multiplayer modes with various game modes like Survival, Creative, and Adventure. Minecraft is available on multiple platforms including PC, consoles, and mobile devices.\n",
      "\u001b[0m"
     ]
    }
   ],
   "source": [
    "routingAgent.query(\"Tell me more about Minecraft\")"
   ]
  },
  {
   "cell_type": "code",
   "execution_count": 2,
   "metadata": {},
   "outputs": [
    {
     "name": "stdout",
     "output_type": "stream",
     "text": [
      "\u001b[1;3;38;5;200mThought: I need to use a tool to help me answer the question.\n",
      "Action: search\n",
      "Action Input: {'query': 'What is Minecraft'}\n",
      "\u001b[0m\u001b[1;3;34mObservation: \n",
      "Minecraft is a popular sandbox video game that offers both single-player and multiplayer modes and is available on multiple platforms.\n",
      "\u001b[0m\u001b[1;3;38;5;200mThought: I can answer without using any more tools.\n",
      "Answer: Minecraft is a popular sandbox video game that offers both single-player and multiplayer modes and is available on multiple platforms.\n",
      "\u001b[0m"
     ]
    }
   ],
   "source": [
    "routingAgent.query(\"What is Minecraft\")"
   ]
  },
  {
   "cell_type": "code",
   "execution_count": 3,
   "metadata": {},
   "outputs": [
    {
     "name": "stdout",
     "output_type": "stream",
     "text": [
      "\u001b[1;3;38;5;200mThought: I need to use a tool to help me answer the question.\n",
      "Action: locate\n",
      "Action Input: {'query': 'current location'}\n",
      "\u001b[0m\u001b[1;3;34mObservation: Your address is7784+VQ Austin, TX, USA\n",
      "\u001b[0m\u001b[1;3;38;5;200mThought: I can answer without using any more tools.\n",
      "Answer: You are currently located in Austin, Texas, USA.\n",
      "\u001b[0m"
     ]
    }
   ],
   "source": [
    "routingAgent.query(\"Where am I?\")"
   ]
  },
  {
   "cell_type": "code",
   "execution_count": 2,
   "metadata": {},
   "outputs": [
    {
     "name": "stdout",
     "output_type": "stream",
     "text": [
      "\u001b[1;3;38;5;200mThought: I need to use a tool to help me answer the question.\n",
      "Action: search\n",
      "Action Input: {'query': 'Where can I buy Minecraft in Austin Texas?'}\n",
      "\u001b[0m\u001b[1;3;34mObservation: \n",
      "You can buy Minecraft in Austin, Texas at various retailers such as Best Buy, Target, and Walmart.\n",
      "\u001b[0m\u001b[1;3;38;5;200mThought: I can answer without using any more tools.\n",
      "Answer: You can buy Minecraft in Austin, Texas at various retailers such as Best Buy, Target, and Walmart.\n",
      "\u001b[0m"
     ]
    }
   ],
   "source": [
    "routingAgent.query(\"Where can I buy Minecraft in Austin Texas?\")"
   ]
  }
 ],
 "metadata": {
  "kernelspec": {
   "display_name": ".venv",
   "language": "python",
   "name": "python3"
  },
  "language_info": {
   "codemirror_mode": {
    "name": "ipython",
    "version": 3
   },
   "file_extension": ".py",
   "mimetype": "text/x-python",
   "name": "python",
   "nbconvert_exporter": "python",
   "pygments_lexer": "ipython3",
   "version": "3.11.6"
  }
 },
 "nbformat": 4,
 "nbformat_minor": 2
}
