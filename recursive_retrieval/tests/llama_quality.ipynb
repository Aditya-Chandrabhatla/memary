{
 "cells": [
  {
   "cell_type": "code",
   "execution_count": 1,
   "metadata": {},
   "outputs": [],
   "source": [
    "import os\n",
    "from dotenv import load_dotenv\n",
    "from llama_index.llms.llama_api import LlamaAPI\n",
    "\n",
    "load_dotenv()\n",
    "\n",
    "api_key = os.getenv('LLAMA_API_KEY')\n",
    "llm = LlamaAPI(api_key=api_key)"
   ]
  },
  {
   "cell_type": "code",
   "execution_count": 3,
   "metadata": {},
   "outputs": [
    {
     "name": "stdout",
     "output_type": "stream",
     "text": [
      "Ah, Harry Potter! The beloved book and movie series about the young wizard who attends Hogwarts School of Witchcraft and Wizardry. The series, written by J.K. Rowling, follows Harry's adventures and battles against the evil wizard, Lord Voldemort. The series consists of seven books, each one more magical and thrilling than the last. The books have been adapted into eight movies, which have captured the hearts of audiences around the world.\n",
      "\n",
      "The story begins with Harry's arrival at Hogwarts, where he makes two best friends, Ron Weasley and Hermione Granger. Together, they embark on a journey filled with magic, danger, and self-discovery. Along the way, they encounter a cast of memorable characters, including the wise and kind headmaster, Albus Dumbledore, and the sinister and manipulative Severus Snape.\n",
      "\n",
      "The series explores themes of friendship, love, and the struggle between good and evil. It also delves into the wizarding world, its history, and its mythology, creating a rich and immersive universe that has captivated readers and viewers of all ages.\n",
      "\n",
      "So, if you're looking for a magical adventure that will transport you to a world of wonder and excitement, then look no further than Harry Potter!\n"
     ]
    }
   ],
   "source": [
    "query = \"tell me about harry potter\"\n",
    "\n",
    "external_response = llm.complete(query)\n",
    "print(external_response)"
   ]
  }
 ],
 "metadata": {
  "kernelspec": {
   "display_name": ".venv",
   "language": "python",
   "name": "python3"
  },
  "language_info": {
   "codemirror_mode": {
    "name": "ipython",
    "version": 3
   },
   "file_extension": ".py",
   "mimetype": "text/x-python",
   "name": "python",
   "nbconvert_exporter": "python",
   "pygments_lexer": "ipython3",
   "version": "3.11.6"
  }
 },
 "nbformat": 4,
 "nbformat_minor": 2
}
