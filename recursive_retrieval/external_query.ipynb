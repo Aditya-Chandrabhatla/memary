{
 "cells": [
  {
   "cell_type": "code",
   "execution_count": 8,
   "metadata": {},
   "outputs": [],
   "source": [
    "import os\n",
    "from dotenv import load_dotenv\n",
    "from llama_index.llms.llama_api import LlamaAPI\n",
    "\n",
    "load_dotenv()\n",
    "os.environ[\"OPENAI_API_KEY\"] = os.getenv('OPENAI_KEY')\n",
    "\n",
    "api_key = os.getenv('LLAMA_API_KEY')\n",
    "llm = LlamaAPI(api_key=api_key)\n"
   ]
  },
  {
   "cell_type": "code",
   "execution_count": 2,
   "metadata": {},
   "outputs": [],
   "source": [
    "from llama_index.graph_stores.neo4j import Neo4jGraphStore\n",
    "from llama_index.core import StorageContext\n",
    "\n",
    "username = \"neo4j\"\n",
    "password = os.getenv('NEO4J_PW')\n",
    "url = os.getenv('NEO4J_URL')\n",
    "database = \"neo4j\"\n",
    "\n",
    "graph_store = Neo4jGraphStore(\n",
    "    username=username,\n",
    "    password=password,\n",
    "    url=url,\n",
    "    database=database,\n",
    ")\n",
    "\n",
    "storage_context = StorageContext.from_defaults(graph_store=graph_store)"
   ]
  },
  {
   "cell_type": "code",
   "execution_count": 3,
   "metadata": {},
   "outputs": [],
   "source": [
    "from llama_index.core.indices.knowledge_graph.retrievers import KnowledgeGraphRAGRetriever\n",
    "from llama_index.core.query_engine import RetrieverQueryEngine\n",
    "\n",
    "graph_rag_retriever_with_nl2graphquery = KnowledgeGraphRAGRetriever(\n",
    "    storage_context=storage_context,\n",
    "    verbose=True,\n",
    "    with_nl2graphquery=True,\n",
    ")\n",
    "\n",
    "query_engine_with_nl2graphquery = RetrieverQueryEngine.from_args(\n",
    "    graph_rag_retriever_with_nl2graphquery,\n",
    ")"
   ]
  },
  {
   "cell_type": "code",
   "execution_count": 10,
   "metadata": {},
   "outputs": [
    {
     "name": "stdout",
     "output_type": "stream",
     "text": [
      "From Llama2: Sirius Black is a character in the Harry Potter series by J.K. Rowling. He is a wizard and the godfather of Harry Potter. He was falsely accused of murder and was believed to have been killed by Bellatrix Lestrange. However, he later returns to Hogwarts and becomes a member of the Order of the Phoenix. He is known for his wild and mischievous behavior, as well as his loyalty to Harry and his friends.\n"
     ]
    }
   ],
   "source": [
    "query = \"Who is Sirius Black\"\n",
    "\n",
    "response = query_engine_with_nl2graphquery.query(\n",
    "    query,\n",
    ")\n",
    "\n",
    "if response.metadata is None:\n",
    "    print(\"From Llama2: \" + str(llm.complete(query)))\n",
    "else:\n",
    "    print(\"From Graph: \" + response)"
   ]
  }
 ],
 "metadata": {
  "kernelspec": {
   "display_name": ".venv",
   "language": "python",
   "name": "python3"
  },
  "language_info": {
   "codemirror_mode": {
    "name": "ipython",
    "version": 3
   },
   "file_extension": ".py",
   "mimetype": "text/x-python",
   "name": "python",
   "nbconvert_exporter": "python",
   "pygments_lexer": "ipython3",
   "version": "3.11.6"
  }
 },
 "nbformat": 4,
 "nbformat_minor": 2
}
