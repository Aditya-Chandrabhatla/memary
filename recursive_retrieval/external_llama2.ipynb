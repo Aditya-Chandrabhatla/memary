{
 "cells": [
  {
   "cell_type": "code",
   "execution_count": 77,
   "metadata": {},
   "outputs": [],
   "source": [
    "import os\n",
    "from dotenv import load_dotenv\n",
    "from llama_index.llms.llama_api import LlamaAPI\n",
    "\n",
    "load_dotenv()\n",
    "os.environ[\"OPENAI_API_KEY\"] = os.getenv('OPENAI_KEY')\n",
    "\n",
    "api_key = os.getenv('LLAMA_API_KEY')\n",
    "llm = LlamaAPI(api_key=api_key)\n"
   ]
  },
  {
   "cell_type": "code",
   "execution_count": 66,
   "metadata": {},
   "outputs": [],
   "source": [
    "from llama_index.graph_stores.neo4j import Neo4jGraphStore\n",
    "from llama_index.core import StorageContext\n",
    "\n",
    "username = \"neo4j\"\n",
    "password = os.getenv('NEO4J_PW')\n",
    "url = os.getenv('NEO4J_URL')\n",
    "database = \"neo4j\"\n",
    "\n",
    "graph_store = Neo4jGraphStore(\n",
    "    username=username,\n",
    "    password=password,\n",
    "    url=url,\n",
    "    database=database,\n",
    ")\n",
    "\n",
    "storage_context = StorageContext.from_defaults(graph_store=graph_store)"
   ]
  },
  {
   "cell_type": "code",
   "execution_count": 53,
   "metadata": {},
   "outputs": [],
   "source": [
    "from llama_index.core.indices.knowledge_graph.retrievers import KnowledgeGraphRAGRetriever\n",
    "from llama_index.core.query_engine import RetrieverQueryEngine\n",
    "\n",
    "graph_rag_retriever_with_nl2graphquery = KnowledgeGraphRAGRetriever(\n",
    "    storage_context=storage_context,\n",
    "    verbose=True,\n",
    "    with_nl2graphquery=True,\n",
    ")\n",
    "\n",
    "query_engine_with_nl2graphquery = RetrieverQueryEngine.from_args(\n",
    "    graph_rag_retriever_with_nl2graphquery,\n",
    ")"
   ]
  },
  {
   "cell_type": "code",
   "execution_count": 92,
   "metadata": {},
   "outputs": [
    {
     "name": "stdout",
     "output_type": "stream",
     "text": [
      "From Llama2: Ah, Sirius Black! He's a fascinating character, don't you think? A wizard who's been accused of a crime he didn't commit, and who's been hunted by the authorities for years. He's a complex and conflicted individual, with a troubled past and a deep sense of loyalty to his friends and loved ones.\n",
      "\n",
      "Sirius Black is a pure-blood wizard, born into an ancient and respected wizarding family. However, his life took a tragic turn when his mother died in a duel with a dark wizard, and his father was killed by the same wizard a few years later. Sirius was left to be raised by his cruel and abusive uncle, who treated him poorly and made him feel like an outcast.\n",
      "\n",
      "Despite these challenges, Sirius proved to be a gifted student at Hogwarts School of Witchcraft and Wizardry, where he became fast friends with Harry Potter, Ron Weasley, and Hermione Granger. However, his life took a dramatic turn when he was falsely accused of betraying his parents to the dark wizard, Lord Voldemort. He was forced to flee Hogwarts and go into hiding, and he spent the next 12 years on the run, always looking over his shoulder and never being able to settle down or form meaningful connections with anyone.\n",
      "\n",
      "Despite his troubled past and his difficult circumstances, Sirius is a kind and caring person who is fiercely loyal to those he considers friends. He has a mischievous sense of humor and a rebellious streak, and he's not afraid to take risks or challenge authority when he believes it's necessary. He's also a skilled wizard and an expert in the Dark Arts, which makes him a valuable ally in the fight against Voldemort.\n",
      "\n",
      "Overall, Sirius Black is a complex and compelling character who adds depth and richness to the Harry Potter series. His struggles and triumphs are an inspiration to readers, and his friendship with Harry, Ron, and Hermione is one of the most heartwarming and enduring relationships in the series.\n"
     ]
    }
   ],
   "source": [
    "query = \"tell me in detail about sirius black\"\n",
    "\n",
    "response = query_engine_with_nl2graphquery.query(\n",
    "    query,\n",
    ")\n",
    "\n",
    "if response.metadata is None:\n",
    "    # 1) answer needs to be queried from Llama2 endpoint\n",
    "    external_response = str(llm.complete(query))\n",
    "    print(\"From Llama2: \" + external_response)\n",
    "\n",
    "    # 2) answer needs to be stored into txt file for loading into KG\n",
    "    with open('data/external_response.txt', 'w') as f:\n",
    "        print(external_response, file=f)\n",
    "else:\n",
    "    print(\"From Graph: \" + str(response))\n",
    "    print(list(list(response.metadata.values())[0][\"kg_rel_map\"].keys()))"
   ]
  },
  {
   "cell_type": "code",
   "execution_count": 43,
   "metadata": {},
   "outputs": [],
   "source": [
    "from llama_index.core import KnowledgeGraphIndex, SimpleDirectoryReader\n",
    "\n",
    "documents = SimpleDirectoryReader(\n",
    "    input_files=['data/external_response.txt']\n",
    ").load_data()\n",
    "\n",
    "index = KnowledgeGraphIndex.from_documents(\n",
    "    documents,\n",
    "    storage_context=storage_context,\n",
    "    max_triplets_per_chunk=2,\n",
    ")"
   ]
  },
  {
   "cell_type": "code",
   "execution_count": 88,
   "metadata": {},
   "outputs": [
    {
     "name": "stdout",
     "output_type": "stream",
     "text": [
      "I'm sorry, but I cannot provide information on \"Voldemort\" as there is no mention or context provided for this topic in the information given.\n"
     ]
    }
   ],
   "source": [
    "query_engine = index.as_query_engine(\n",
    "    include_text=False, response_mode=\"tree_summarize\"\n",
    ")\n",
    "\n",
    "response = query_engine.query(query)\n",
    "print(response)"
   ]
  }
 ],
 "metadata": {
  "kernelspec": {
   "display_name": ".venv",
   "language": "python",
   "name": "python3"
  },
  "language_info": {
   "codemirror_mode": {
    "name": "ipython",
    "version": 3
   },
   "file_extension": ".py",
   "mimetype": "text/x-python",
   "name": "python",
   "nbconvert_exporter": "python",
   "pygments_lexer": "ipython3",
   "version": "3.11.6"
  }
 },
 "nbformat": 4,
 "nbformat_minor": 2
}
