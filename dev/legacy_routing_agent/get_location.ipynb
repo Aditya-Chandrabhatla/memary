{
 "cells": [
  {
   "cell_type": "code",
   "execution_count": 2,
   "metadata": {},
   "outputs": [
    {
     "name": "stdout",
     "output_type": "stream",
     "text": [
      "Collecting geopy\n",
      "  Obtaining dependency information for geopy from https://files.pythonhosted.org/packages/e5/15/cf2a69ade4b194aa524ac75112d5caac37414b20a3a03e6865dfe0bd1539/geopy-2.4.1-py3-none-any.whl.metadata\n",
      "  Downloading geopy-2.4.1-py3-none-any.whl.metadata (6.8 kB)\n",
      "Collecting geographiclib<3,>=1.52 (from geopy)\n",
      "  Obtaining dependency information for geographiclib<3,>=1.52 from https://files.pythonhosted.org/packages/9f/5a/a26132406f1f40cf51ea349a5f11b0a46cec02a2031ff82e391c2537247a/geographiclib-2.0-py3-none-any.whl.metadata\n",
      "  Downloading geographiclib-2.0-py3-none-any.whl.metadata (1.4 kB)\n",
      "Downloading geopy-2.4.1-py3-none-any.whl (125 kB)\n",
      "   ---------------------------------------- 0.0/125.4 kB ? eta -:--:--\n",
      "   --- ------------------------------------ 10.2/125.4 kB ? eta -:--:--\n",
      "   ------ -------------------------------- 20.5/125.4 kB 330.3 kB/s eta 0:00:01\n",
      "   ------------ -------------------------- 41.0/125.4 kB 393.8 kB/s eta 0:00:01\n",
      "   -------------------------------------- 125.4/125.4 kB 921.6 kB/s eta 0:00:00\n",
      "Downloading geographiclib-2.0-py3-none-any.whl (40 kB)\n",
      "   ---------------------------------------- 0.0/40.3 kB ? eta -:--:--\n",
      "   ---------------------------------------- 40.3/40.3 kB 1.9 MB/s eta 0:00:00\n",
      "Installing collected packages: geographiclib, geopy\n",
      "Successfully installed geographiclib-2.0 geopy-2.4.1\n",
      "Note: you may need to restart the kernel to use updated packages.\n"
     ]
    }
   ],
   "source": [
    "%pip install geopy"
   ]
  },
  {
   "cell_type": "code",
   "execution_count": 4,
   "metadata": {},
   "outputs": [
    {
     "name": "stdout",
     "output_type": "stream",
     "text": [
      "An error occurred: Non-successful status code 403\n"
     ]
    }
   ],
   "source": [
    "import requests\n",
    "from geopy.geocoders import Nominatim\n",
    "\n",
    "def get_location():\n",
    "    try:\n",
    "        # Fetch location data from ip-api\n",
    "        ip_url = 'http://ip-api.com/json/'\n",
    "        response = requests.get(ip_url)\n",
    "        data = response.json()\n",
    "\n",
    "        # Check if the response is successful\n",
    "        if data['status'] == 'success':\n",
    "            latitude = data['lat']\n",
    "            longitude = data['lon']\n",
    "\n",
    "            # Use geopy to get more detailed location data\n",
    "            geolocator = Nominatim(user_agent=\"geoapiExercises\")\n",
    "            location = geolocator.reverse(f\"{latitude}, {longitude}\", exactly_one=True)\n",
    "            if location:\n",
    "                return location.latitude, location.longitude\n",
    "            else:\n",
    "                return latitude, longitude\n",
    "        else:\n",
    "            return \"Location could not be determined using IP.\", \"\"\n",
    "\n",
    "    except Exception as e:\n",
    "        return f\"An error occurred: {e}\", \"\"\n",
    "\n",
    "latitude, longitude = get_location()\n",
    "if latitude and longitude:\n",
    "    print(f\"Current Latitude: {latitude}\")\n",
    "    print(f\"Current Longitude: {longitude}\")\n",
    "else:\n",
    "    print(latitude)  # This would print the error message if location could not be determined\n"
   ]
  },
  {
   "cell_type": "code",
   "execution_count": null,
   "metadata": {},
   "outputs": [],
   "source": []
  }
 ],
 "metadata": {
  "kernelspec": {
   "display_name": "base",
   "language": "python",
   "name": "python3"
  },
  "language_info": {
   "codemirror_mode": {
    "name": "ipython",
    "version": 3
   },
   "file_extension": ".py",
   "mimetype": "text/x-python",
   "name": "python",
   "nbconvert_exporter": "python",
   "pygments_lexer": "ipython3",
   "version": "3.11.5"
  }
 },
 "nbformat": 4,
 "nbformat_minor": 2
}
